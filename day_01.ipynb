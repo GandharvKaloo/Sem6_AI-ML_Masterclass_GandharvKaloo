{
 "cells": [
  {
   "cell_type": "code",
   "execution_count": 1,
   "id": "14dec5f2-2cc9-40bb-b738-6f9d5c4cc845",
   "metadata": {},
   "outputs": [],
   "source": [
    "import numpy as np"
   ]
  },
  {
   "cell_type": "code",
   "execution_count": 4,
   "id": "c0d26e3b-cb41-4bda-b784-9e7b575e59c9",
   "metadata": {},
   "outputs": [
    {
     "name": "stdout",
     "output_type": "stream",
     "text": [
      "[1 2]\n"
     ]
    }
   ],
   "source": [
    "x = np.array((1,2))\n",
    "print(x)"
   ]
  },
  {
   "cell_type": "code",
   "execution_count": 3,
   "id": "c053d717-bf83-4b18-93dd-fcf3c57a80d5",
   "metadata": {},
   "outputs": [
    {
     "data": {
      "text/plain": [
       "array([1, 2])"
      ]
     },
     "execution_count": 3,
     "metadata": {},
     "output_type": "execute_result"
    }
   ],
   "source": [
    "x"
   ]
  },
  {
   "cell_type": "code",
   "execution_count": 5,
   "id": "cbe8b0ed-1ce8-456e-86b3-d4cd35d83bd7",
   "metadata": {},
   "outputs": [
    {
     "data": {
      "text/plain": [
       "array([[0., 0., 0., 0., 0.],\n",
       "       [0., 0., 0., 0., 0.]])"
      ]
     },
     "execution_count": 5,
     "metadata": {},
     "output_type": "execute_result"
    }
   ],
   "source": [
    "np.zeros((2,5))"
   ]
  },
  {
   "cell_type": "code",
   "execution_count": 18,
   "id": "5eb3dbf9-2470-4a0b-8fbb-f209bd271cf3",
   "metadata": {},
   "outputs": [
    {
     "name": "stdout",
     "output_type": "stream",
     "text": [
      "0.003913164138793945\n"
     ]
    }
   ],
   "source": [
    "import time\n",
    "\n",
    "st = time.time()\n",
    "l = list(range(1, 100001))\n",
    "et = time.time() \n",
    "\n",
    "a = et - st \n",
    "print(a) \n"
   ]
  },
  {
   "cell_type": "code",
   "execution_count": 15,
   "id": "751d8e89-3c8f-468a-a13d-faa18eb0a772",
   "metadata": {},
   "outputs": [
    {
     "name": "stdout",
     "output_type": "stream",
     "text": [
      "100000\n"
     ]
    }
   ],
   "source": [
    "arr = np.array(100000)\n",
    "print(arr)"
   ]
  },
  {
   "cell_type": "code",
   "execution_count": 19,
   "id": "95e5f00e-0c61-4fe2-9e80-0cd85b978691",
   "metadata": {},
   "outputs": [
    {
     "data": {
      "text/plain": [
       "array([[1, 2, 3, 4],\n",
       "       [5, 6, 7, 8]])"
      ]
     },
     "execution_count": 19,
     "metadata": {},
     "output_type": "execute_result"
    }
   ],
   "source": [
    "arr = np.array([[1,2,3,4], [5,6,7,8]])\n",
    "arr"
   ]
  },
  {
   "cell_type": "code",
   "execution_count": 20,
   "id": "069a25dd-d5b8-4dbd-8a75-24e7f8cf545f",
   "metadata": {},
   "outputs": [
    {
     "data": {
      "text/plain": [
       "(2, 4)"
      ]
     },
     "execution_count": 20,
     "metadata": {},
     "output_type": "execute_result"
    }
   ],
   "source": [
    "arr.shape"
   ]
  },
  {
   "cell_type": "code",
   "execution_count": 25,
   "id": "996dfb39-9596-4b24-8173-0f4b8abeb478",
   "metadata": {},
   "outputs": [
    {
     "data": {
      "text/plain": [
       "(2, 4)"
      ]
     },
     "execution_count": 25,
     "metadata": {},
     "output_type": "execute_result"
    }
   ],
   "source": [
    "arr.shape\n"
   ]
  },
  {
   "cell_type": "code",
   "execution_count": 26,
   "id": "a0c03eea-bc91-4eca-9682-68ee2ed12274",
   "metadata": {},
   "outputs": [
    {
     "data": {
      "text/plain": [
       "array([ 0,  1,  2,  3,  4,  5,  6,  7,  8,  9, 10, 11, 12, 13, 14, 15, 16,\n",
       "       17, 18, 19, 20, 21, 22, 23])"
      ]
     },
     "execution_count": 26,
     "metadata": {},
     "output_type": "execute_result"
    }
   ],
   "source": [
    "arr = np.arange(24)\n",
    "arr"
   ]
  },
  {
   "cell_type": "code",
   "execution_count": 27,
   "id": "db05413d-c827-4ea2-b581-ca5d8e140b9a",
   "metadata": {},
   "outputs": [
    {
     "name": "stdout",
     "output_type": "stream",
     "text": [
      "Defaulting to user installation because normal site-packages is not writeable\n",
      "Requirement already satisfied: pandas in c:\\program files\\python311\\lib\\site-packages (2.2.2)\n",
      "Could not fetch URL https://pypi.org/simple/pandas/: There was a problem confirming the ssl certificate: HTTPSConnectionPool(host='pypi.org', port=443): Max retries exceeded with url: /simple/pandas/ (Caused by SSLError(SSLCertVerificationError(1, '[SSL: CERTIFICATE_VERIFY_FAILED] certificate verify failed: self-signed certificate in certificate chain (_ssl.c:1006)'))) - skipping\n",
      "Requirement already satisfied: numpy>=1.23.2 in c:\\users\\gandh\\appdata\\roaming\\python\\python311\\site-packages (from pandas) (1.26.2)\n",
      "Requirement already satisfied: python-dateutil>=2.8.2 in c:\\program files\\python311\\lib\\site-packages (from pandas) (2.9.0.post0)\n",
      "Requirement already satisfied: pytz>=2020.1 in c:\\program files\\python311\\lib\\site-packages (from pandas) (2024.1)\n",
      "Requirement already satisfied: tzdata>=2022.7 in c:\\program files\\python311\\lib\\site-packages (from pandas) (2024.1)\n",
      "Requirement already satisfied: six>=1.5 in c:\\program files\\python311\\lib\\site-packages (from python-dateutil>=2.8.2->pandas) (1.16.0)\n",
      "Could not fetch URL https://pypi.org/simple/pip/: There was a problem confirming the ssl certificate: HTTPSConnectionPool(host='pypi.org', port=443): Max retries exceeded with url: /simple/pip/ (Caused by SSLError(SSLCertVerificationError(1, '[SSL: CERTIFICATE_VERIFY_FAILED] certificate verify failed: self-signed certificate in certificate chain (_ssl.c:1006)'))) - skipping\n"
     ]
    },
    {
     "name": "stderr",
     "output_type": "stream",
     "text": [
      "DEPRECATION: Loading egg at c:\\program files\\python311\\lib\\site-packages\\vboxapi-1.0-py3.11.egg is deprecated. pip 24.3 will enforce this behaviour change. A possible replacement is to use pip for package installation.. Discussion can be found at https://github.com/pypa/pip/issues/12330\n",
      "WARNING: Retrying (Retry(total=4, connect=None, read=None, redirect=None, status=None)) after connection broken by 'SSLError(SSLCertVerificationError(1, '[SSL: CERTIFICATE_VERIFY_FAILED] certificate verify failed: self-signed certificate in certificate chain (_ssl.c:1006)'))': /simple/pandas/\n",
      "WARNING: Retrying (Retry(total=3, connect=None, read=None, redirect=None, status=None)) after connection broken by 'SSLError(SSLCertVerificationError(1, '[SSL: CERTIFICATE_VERIFY_FAILED] certificate verify failed: self-signed certificate in certificate chain (_ssl.c:1006)'))': /simple/pandas/\n",
      "WARNING: Retrying (Retry(total=2, connect=None, read=None, redirect=None, status=None)) after connection broken by 'SSLError(SSLCertVerificationError(1, '[SSL: CERTIFICATE_VERIFY_FAILED] certificate verify failed: self-signed certificate in certificate chain (_ssl.c:1006)'))': /simple/pandas/\n",
      "WARNING: Retrying (Retry(total=1, connect=None, read=None, redirect=None, status=None)) after connection broken by 'SSLError(SSLCertVerificationError(1, '[SSL: CERTIFICATE_VERIFY_FAILED] certificate verify failed: self-signed certificate in certificate chain (_ssl.c:1006)'))': /simple/pandas/\n",
      "WARNING: Retrying (Retry(total=0, connect=None, read=None, redirect=None, status=None)) after connection broken by 'SSLError(SSLCertVerificationError(1, '[SSL: CERTIFICATE_VERIFY_FAILED] certificate verify failed: self-signed certificate in certificate chain (_ssl.c:1006)'))': /simple/pandas/\n"
     ]
    }
   ],
   "source": [
    "!pip install --upgrade pandas"
   ]
  },
  {
   "cell_type": "code",
   "execution_count": 28,
   "id": "32aa73ff-294d-4d26-bbeb-6287155cfbb2",
   "metadata": {},
   "outputs": [
    {
     "name": "stdout",
     "output_type": "stream",
     "text": [
      "Package                      Version\n",
      "---------------------------- --------------\n",
      "about-time                   4.2.1\n",
      "absl-py                      2.1.0\n",
      "aiohttp                      3.9.1\n",
      "aiohttp-retry                2.8.3\n",
      "aiosignal                    1.3.1\n",
      "alive-progress               3.2.0\n",
      "anyio                        4.4.0\n",
      "argon2-cffi                  23.1.0\n",
      "argon2-cffi-bindings         21.2.0\n",
      "arrow                        1.3.0\n",
      "asttokens                    2.4.1\n",
      "astunparse                   1.6.3\n",
      "async-lru                    2.0.4\n",
      "attrs                        23.1.0\n",
      "Babel                        2.15.0\n",
      "beautifulsoup4               4.12.3\n",
      "bleach                       6.1.0\n",
      "catboost                     1.2.7\n",
      "certifi                      2023.11.17\n",
      "cffi                         1.16.0\n",
      "charset-normalizer           3.3.2\n",
      "click                        8.1.7\n",
      "colorama                     0.4.6\n",
      "comm                         0.2.2\n",
      "comtypes                     1.2.0\n",
      "contourpy                    1.2.1\n",
      "cycler                       0.12.1\n",
      "debugpy                      1.8.2\n",
      "decorator                    5.1.1\n",
      "defusedxml                   0.7.1\n",
      "Deprecated                   1.2.14\n",
      "dlib                         19.24.2\n",
      "executing                    2.0.1\n",
      "face-recognition             1.3.0\n",
      "face-recognition-models      0.3.0\n",
      "fastjsonschema               2.20.0\n",
      "filelock                     3.16.1\n",
      "flatbuffers                  24.3.25\n",
      "fonttools                    4.53.1\n",
      "fqdn                         1.5.1\n",
      "frozenlist                   1.4.0\n",
      "fsspec                       2024.10.0\n",
      "gast                         0.6.0\n",
      "gitdb                        4.0.11\n",
      "GitPython                    3.1.43\n",
      "google-pasta                 0.2.0\n",
      "grapheme                     0.6.0\n",
      "graphviz                     0.20.3\n",
      "grpcio                       1.65.4\n",
      "h11                          0.14.0\n",
      "h5py                         3.11.0\n",
      "httpcore                     1.0.5\n",
      "httpx                        0.27.0\n",
      "idna                         3.6\n",
      "img2pdf                      0.5.1\n",
      "ipykernel                    6.29.5\n",
      "ipython                      8.26.0\n",
      "ipywidgets                   8.1.3\n",
      "isoduration                  20.11.0\n",
      "jedi                         0.19.1\n",
      "Jinja2                       3.1.4\n",
      "joblib                       1.4.2\n",
      "json5                        0.9.25\n",
      "jsonpointer                  3.0.0\n",
      "jsonschema                   4.23.0\n",
      "jsonschema-specifications    2023.12.1\n",
      "jupyter                      1.0.0\n",
      "jupyter_client               8.6.2\n",
      "jupyter-console              6.6.3\n",
      "jupyter_core                 5.7.2\n",
      "jupyter-events               0.10.0\n",
      "jupyter-lsp                  2.2.5\n",
      "jupyter_server               2.14.2\n",
      "jupyter_server_terminals     0.5.3\n",
      "jupyterlab                   4.2.4\n",
      "jupyterlab_pygments          0.3.0\n",
      "jupyterlab_server            2.27.3\n",
      "jupyterlab_widgets           3.0.11\n",
      "jupyterthemes                0.20.0\n",
      "keras                        3.5.0\n",
      "kiwisolver                   1.4.5\n",
      "lesscpy                      0.15.1\n",
      "libclang                     18.1.1\n",
      "lightgbm                     4.5.0\n",
      "lxml                         5.3.0\n",
      "Markdown                     3.6\n",
      "markdown-it-py               3.0.0\n",
      "MarkupSafe                   2.1.5\n",
      "matplotlib                   3.9.0\n",
      "matplotlib-inline            0.1.7\n",
      "mdurl                        0.1.2\n",
      "mistune                      3.0.2\n",
      "ml-dtypes                    0.4.0\n",
      "mpmath                       1.3.0\n",
      "multidict                    6.0.4\n",
      "namex                        0.0.8\n",
      "nbclient                     0.10.0\n",
      "nbconvert                    7.16.4\n",
      "nbformat                     5.10.4\n",
      "nest-asyncio                 1.6.0\n",
      "networkx                     3.4.2\n",
      "notebook                     7.2.1\n",
      "notebook_shim                0.2.4\n",
      "numpy                        1.26.2\n",
      "opencv-python                4.8.1.78\n",
      "opt-einsum                   3.3.0\n",
      "optree                       0.12.1\n",
      "overrides                    7.7.0\n",
      "packaging                    24.1\n",
      "pandas                       2.2.2\n",
      "pandocfilters                1.5.1\n",
      "parso                        0.8.4\n",
      "pikepdf                      9.2.1\n",
      "pillow                       11.0.0\n",
      "pip                          23.3.1\n",
      "platformdirs                 4.2.2\n",
      "plotly                       5.23.0\n",
      "ply                          3.11\n",
      "prometheus_client            0.20.0\n",
      "prompt_toolkit               3.0.47\n",
      "protobuf                     4.25.4\n",
      "psutil                       6.0.0\n",
      "pure_eval                    0.2.3\n",
      "py-cpuinfo                   9.0.0\n",
      "pycparser                    2.22\n",
      "pyfingerprint                1.5\n",
      "pygame                       2.5.2\n",
      "Pygments                     2.18.0\n",
      "PyJWT                        2.8.0\n",
      "pyparsing                    3.1.2\n",
      "pypiwin32                    223\n",
      "pypng                        0.20220715.0\n",
      "pyserial                     3.5\n",
      "python-dateutil              2.9.0.post0\n",
      "python-json-logger           2.0.7\n",
      "pyttsx3                      2.90\n",
      "pytz                         2024.1\n",
      "pywin32                      306\n",
      "pywinpty                     2.0.13\n",
      "PyYAML                       6.0.1\n",
      "pyzmq                        26.0.3\n",
      "qrcode                       7.4.2\n",
      "qtconsole                    5.5.2\n",
      "QtPy                         2.4.1\n",
      "referencing                  0.35.1\n",
      "requests                     2.32.3\n",
      "rfc3339-validator            0.1.4\n",
      "rfc3986-validator            0.1.1\n",
      "rich                         13.7.1\n",
      "rpds-py                      0.19.1\n",
      "scikit-learn                 1.5.1\n",
      "scipy                        1.14.0\n",
      "seaborn                      0.13.2\n",
      "Send2Trash                   1.8.3\n",
      "setuptools                   75.6.0\n",
      "six                          1.16.0\n",
      "smmap                        5.0.1\n",
      "sniffio                      1.3.1\n",
      "soupsieve                    2.5\n",
      "stack-data                   0.6.3\n",
      "sympy                        1.13.1\n",
      "tenacity                     9.0.0\n",
      "tensorboard                  2.17.0\n",
      "tensorboard-data-server      0.7.2\n",
      "tensorflow                   2.17.0\n",
      "tensorflow-intel             2.17.0\n",
      "tensorflow-io-gcs-filesystem 0.31.0\n",
      "termcolor                    2.4.0\n",
      "terminado                    0.18.1\n",
      "threadpoolctl                3.5.0\n",
      "tinycss2                     1.3.0\n",
      "torch                        2.5.1\n",
      "torchaudio                   2.5.1\n",
      "torchvision                  0.20.1\n",
      "tornado                      6.4.1\n",
      "tqdm                         4.67.1\n",
      "traitlets                    5.14.3\n",
      "twilio                       8.10.2\n",
      "types-python-dateutil        2.9.0.20240316\n",
      "typing_extensions            4.8.0\n",
      "tzdata                       2024.1\n",
      "ultralytics                  8.3.43\n",
      "ultralytics-thop             2.0.12\n",
      "uri-template                 1.3.0\n",
      "urllib3                      2.1.0\n",
      "vboxapi                      1.0\n",
      "vboxapi                      1.0\n",
      "vboxapi                      1.0\n",
      "wcwidth                      0.2.13\n",
      "webcolors                    24.6.0\n",
      "webencodings                 0.5.1\n",
      "websocket-client             1.8.0\n",
      "Werkzeug                     3.0.3\n",
      "wheel                        0.44.0\n",
      "widgetsnbextension           4.0.11\n",
      "wrapt                        1.16.0\n",
      "xgboost                      2.1.2\n",
      "yarl                         1.9.3\n",
      "Could not fetch URL https://pypi.org/simple/pip/: There was a problem confirming the ssl certificate: HTTPSConnectionPool(host='pypi.org', port=443): Max retries exceeded with url: /simple/pip/ (Caused by SSLError(SSLCertVerificationError(1, '[SSL: CERTIFICATE_VERIFY_FAILED] certificate verify failed: self-signed certificate in certificate chain (_ssl.c:1006)'))) - skipping\n"
     ]
    },
    {
     "name": "stderr",
     "output_type": "stream",
     "text": [
      "DEPRECATION: Loading egg at c:\\program files\\python311\\lib\\site-packages\\vboxapi-1.0-py3.11.egg is deprecated. pip 24.3 will enforce this behaviour change. A possible replacement is to use pip for package installation.. Discussion can be found at https://github.com/pypa/pip/issues/12330\n"
     ]
    }
   ],
   "source": [
    "!pip list"
   ]
  },
  {
   "cell_type": "code",
   "execution_count": 29,
   "id": "ddee295a-c0ad-4384-b1dd-dc1e824305f2",
   "metadata": {},
   "outputs": [
    {
     "data": {
      "text/plain": [
       "{'Name': ['Niraj', 'Dharmendra', 'Gotham'], 'Age': [34, 35, 36]}"
      ]
     },
     "execution_count": 29,
     "metadata": {},
     "output_type": "execute_result"
    }
   ],
   "source": [
    "dic = {\"Name\":[\"Niraj\", \"Dharmendra\", \"Gotham\"], \"Age\":[34,35,36]}\n",
    "dic"
   ]
  },
  {
   "cell_type": "code",
   "execution_count": 33,
   "id": "d58ac805-7030-42d8-8b62-4eba3144c77c",
   "metadata": {},
   "outputs": [],
   "source": [
    "import pandas as pd\n",
    "df = pd.DataFrame(dic)"
   ]
  },
  {
   "cell_type": "code",
   "execution_count": 34,
   "id": "ce8df2ee-ccc5-402d-88df-fe13644b7164",
   "metadata": {},
   "outputs": [
    {
     "data": {
      "text/html": [
       "<div>\n",
       "<style scoped>\n",
       "    .dataframe tbody tr th:only-of-type {\n",
       "        vertical-align: middle;\n",
       "    }\n",
       "\n",
       "    .dataframe tbody tr th {\n",
       "        vertical-align: top;\n",
       "    }\n",
       "\n",
       "    .dataframe thead th {\n",
       "        text-align: right;\n",
       "    }\n",
       "</style>\n",
       "<table border=\"1\" class=\"dataframe\">\n",
       "  <thead>\n",
       "    <tr style=\"text-align: right;\">\n",
       "      <th></th>\n",
       "      <th>Name</th>\n",
       "      <th>Age</th>\n",
       "    </tr>\n",
       "  </thead>\n",
       "  <tbody>\n",
       "    <tr>\n",
       "      <th>0</th>\n",
       "      <td>Niraj</td>\n",
       "      <td>34</td>\n",
       "    </tr>\n",
       "    <tr>\n",
       "      <th>1</th>\n",
       "      <td>Dharmendra</td>\n",
       "      <td>35</td>\n",
       "    </tr>\n",
       "    <tr>\n",
       "      <th>2</th>\n",
       "      <td>Gotham</td>\n",
       "      <td>36</td>\n",
       "    </tr>\n",
       "  </tbody>\n",
       "</table>\n",
       "</div>"
      ],
      "text/plain": [
       "         Name  Age\n",
       "0       Niraj   34\n",
       "1  Dharmendra   35\n",
       "2      Gotham   36"
      ]
     },
     "execution_count": 34,
     "metadata": {},
     "output_type": "execute_result"
    }
   ],
   "source": [
    "df.head()"
   ]
  },
  {
   "cell_type": "code",
   "execution_count": 38,
   "id": "98bd8248-fc68-4d8f-8ef8-bcea4e7c27b8",
   "metadata": {},
   "outputs": [
    {
     "data": {
      "text/plain": [
       "{'Name': ['Niraj', 'Dharmendra', 'Gotham'],\n",
       " 'Age': [34, 35, 36],\n",
       " 'Salary': [100, 200, 150],\n",
       " 'Sex': ['M', 'M', 'M']}"
      ]
     },
     "execution_count": 38,
     "metadata": {},
     "output_type": "execute_result"
    }
   ],
   "source": [
    "dic1 = {\"Name\":[\"Niraj\", \"Dharmendra\", \"Gotham\"], \"Age\":[34,35,36], \"Salary\":[100, 200, 150], \"Sex\":[\"M\", \"M\", \"M\"]}\n",
    "dic1"
   ]
  },
  {
   "cell_type": "code",
   "execution_count": 41,
   "id": "c8ca41ee-d377-4d92-9160-ce7a906ca973",
   "metadata": {},
   "outputs": [],
   "source": [
    "df = pd.DataFrame(dic1)"
   ]
  },
  {
   "cell_type": "code",
   "execution_count": 42,
   "id": "2cfbd3f5-962f-4b79-a4d0-2a5519d82f0e",
   "metadata": {},
   "outputs": [
    {
     "data": {
      "text/html": [
       "<div>\n",
       "<style scoped>\n",
       "    .dataframe tbody tr th:only-of-type {\n",
       "        vertical-align: middle;\n",
       "    }\n",
       "\n",
       "    .dataframe tbody tr th {\n",
       "        vertical-align: top;\n",
       "    }\n",
       "\n",
       "    .dataframe thead th {\n",
       "        text-align: right;\n",
       "    }\n",
       "</style>\n",
       "<table border=\"1\" class=\"dataframe\">\n",
       "  <thead>\n",
       "    <tr style=\"text-align: right;\">\n",
       "      <th></th>\n",
       "      <th>Name</th>\n",
       "      <th>Age</th>\n",
       "      <th>Salary</th>\n",
       "      <th>Sex</th>\n",
       "    </tr>\n",
       "  </thead>\n",
       "  <tbody>\n",
       "    <tr>\n",
       "      <th>0</th>\n",
       "      <td>Niraj</td>\n",
       "      <td>34</td>\n",
       "      <td>100</td>\n",
       "      <td>M</td>\n",
       "    </tr>\n",
       "    <tr>\n",
       "      <th>1</th>\n",
       "      <td>Dharmendra</td>\n",
       "      <td>35</td>\n",
       "      <td>200</td>\n",
       "      <td>M</td>\n",
       "    </tr>\n",
       "    <tr>\n",
       "      <th>2</th>\n",
       "      <td>Gotham</td>\n",
       "      <td>36</td>\n",
       "      <td>150</td>\n",
       "      <td>M</td>\n",
       "    </tr>\n",
       "  </tbody>\n",
       "</table>\n",
       "</div>"
      ],
      "text/plain": [
       "         Name  Age  Salary Sex\n",
       "0       Niraj   34     100   M\n",
       "1  Dharmendra   35     200   M\n",
       "2      Gotham   36     150   M"
      ]
     },
     "execution_count": 42,
     "metadata": {},
     "output_type": "execute_result"
    }
   ],
   "source": [
    "df.head()"
   ]
  },
  {
   "cell_type": "code",
   "execution_count": 45,
   "id": "19d9e456-3d5f-41c5-ada2-fd2b6e04db3b",
   "metadata": {},
   "outputs": [
    {
     "data": {
      "text/plain": [
       "'Dharmendra'"
      ]
     },
     "execution_count": 45,
     "metadata": {},
     "output_type": "execute_result"
    }
   ],
   "source": [
    "df['Name'] [1]"
   ]
  },
  {
   "cell_type": "code",
   "execution_count": 47,
   "id": "6111626d-34ca-485b-a5b1-25ca5a574187",
   "metadata": {},
   "outputs": [],
   "source": [
    "df.to_csv('test_df.csv')"
   ]
  },
  {
   "cell_type": "code",
   "execution_count": null,
   "id": "e8a2bf2c-5458-4538-96bf-6c3350743429",
   "metadata": {},
   "outputs": [],
   "source": []
  }
 ],
 "metadata": {
  "kernelspec": {
   "display_name": "Python 3 (ipykernel)",
   "language": "python",
   "name": "python3"
  },
  "language_info": {
   "codemirror_mode": {
    "name": "ipython",
    "version": 3
   },
   "file_extension": ".py",
   "mimetype": "text/x-python",
   "name": "python",
   "nbconvert_exporter": "python",
   "pygments_lexer": "ipython3",
   "version": "3.11.5"
  }
 },
 "nbformat": 4,
 "nbformat_minor": 5
}
