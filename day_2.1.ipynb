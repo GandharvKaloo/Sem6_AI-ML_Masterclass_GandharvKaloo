{
 "cells": [
  {
   "cell_type": "code",
   "execution_count": 1,
   "id": "09db588e-3a1c-46e3-bcfb-cef6cab01af9",
   "metadata": {},
   "outputs": [],
   "source": [
    "import pandas as pd\n",
    "import numpy as np"
   ]
  },
  {
   "cell_type": "code",
   "execution_count": 2,
   "id": "053725ce-1a0d-4b82-b742-a30d5335ebb8",
   "metadata": {},
   "outputs": [
    {
     "data": {
      "text/html": [
       "<div>\n",
       "<style scoped>\n",
       "    .dataframe tbody tr th:only-of-type {\n",
       "        vertical-align: middle;\n",
       "    }\n",
       "\n",
       "    .dataframe tbody tr th {\n",
       "        vertical-align: top;\n",
       "    }\n",
       "\n",
       "    .dataframe thead th {\n",
       "        text-align: right;\n",
       "    }\n",
       "</style>\n",
       "<table border=\"1\" class=\"dataframe\">\n",
       "  <thead>\n",
       "    <tr style=\"text-align: right;\">\n",
       "      <th></th>\n",
       "      <th>Location</th>\n",
       "      <th>Fuel_Type</th>\n",
       "      <th>Transmission</th>\n",
       "      <th>Owner_Type</th>\n",
       "      <th>Seats</th>\n",
       "      <th>Price</th>\n",
       "      <th>Age</th>\n",
       "      <th>Model</th>\n",
       "      <th>Mileage</th>\n",
       "      <th>Power</th>\n",
       "      <th>KM_Driven</th>\n",
       "    </tr>\n",
       "  </thead>\n",
       "  <tbody>\n",
       "    <tr>\n",
       "      <th>0</th>\n",
       "      <td>Chennai</td>\n",
       "      <td>Diesel</td>\n",
       "      <td>Manual</td>\n",
       "      <td>First</td>\n",
       "      <td>7</td>\n",
       "      <td>6.00</td>\n",
       "      <td>8</td>\n",
       "      <td>ertiga</td>\n",
       "      <td>20.77</td>\n",
       "      <td>88.76</td>\n",
       "      <td>87</td>\n",
       "    </tr>\n",
       "    <tr>\n",
       "      <th>1</th>\n",
       "      <td>Jaipur</td>\n",
       "      <td>Diesel</td>\n",
       "      <td>Manual</td>\n",
       "      <td>First</td>\n",
       "      <td>5</td>\n",
       "      <td>5.60</td>\n",
       "      <td>5</td>\n",
       "      <td>swift</td>\n",
       "      <td>25.20</td>\n",
       "      <td>74.00</td>\n",
       "      <td>64</td>\n",
       "    </tr>\n",
       "    <tr>\n",
       "      <th>2</th>\n",
       "      <td>Jaipur</td>\n",
       "      <td>Diesel</td>\n",
       "      <td>Manual</td>\n",
       "      <td>First</td>\n",
       "      <td>5</td>\n",
       "      <td>5.99</td>\n",
       "      <td>3</td>\n",
       "      <td>swift</td>\n",
       "      <td>28.40</td>\n",
       "      <td>74.00</td>\n",
       "      <td>25</td>\n",
       "    </tr>\n",
       "    <tr>\n",
       "      <th>3</th>\n",
       "      <td>Hyderabad</td>\n",
       "      <td>Petrol</td>\n",
       "      <td>Manual</td>\n",
       "      <td>Second</td>\n",
       "      <td>5</td>\n",
       "      <td>2.75</td>\n",
       "      <td>7</td>\n",
       "      <td>alto</td>\n",
       "      <td>20.92</td>\n",
       "      <td>67.10</td>\n",
       "      <td>54</td>\n",
       "    </tr>\n",
       "    <tr>\n",
       "      <th>4</th>\n",
       "      <td>Jaipur</td>\n",
       "      <td>Petrol</td>\n",
       "      <td>Manual</td>\n",
       "      <td>Second</td>\n",
       "      <td>5</td>\n",
       "      <td>1.85</td>\n",
       "      <td>11</td>\n",
       "      <td>wagon</td>\n",
       "      <td>14.00</td>\n",
       "      <td>64.00</td>\n",
       "      <td>83</td>\n",
       "    </tr>\n",
       "  </tbody>\n",
       "</table>\n",
       "</div>"
      ],
      "text/plain": [
       "    Location Fuel_Type Transmission Owner_Type  Seats  Price  Age   Model  \\\n",
       "0    Chennai    Diesel       Manual      First      7   6.00    8  ertiga   \n",
       "1     Jaipur    Diesel       Manual      First      5   5.60    5   swift   \n",
       "2     Jaipur    Diesel       Manual      First      5   5.99    3   swift   \n",
       "3  Hyderabad    Petrol       Manual     Second      5   2.75    7    alto   \n",
       "4     Jaipur    Petrol       Manual     Second      5   1.85   11   wagon   \n",
       "\n",
       "   Mileage  Power  KM_Driven  \n",
       "0    20.77  88.76         87  \n",
       "1    25.20  74.00         64  \n",
       "2    28.40  74.00         25  \n",
       "3    20.92  67.10         54  \n",
       "4    14.00  64.00         83  "
      ]
     },
     "execution_count": 2,
     "metadata": {},
     "output_type": "execute_result"
    }
   ],
   "source": [
    "data = pd.read_csv(\"used_cars_maruti.csv\")\n",
    "data.head()"
   ]
  },
  {
   "cell_type": "code",
   "execution_count": 4,
   "id": "53b11a3d-13fb-4a89-bdfa-79c34b4e5fe1",
   "metadata": {},
   "outputs": [
    {
     "data": {
      "text/plain": [
       "(1070, 11)"
      ]
     },
     "execution_count": 4,
     "metadata": {},
     "output_type": "execute_result"
    }
   ],
   "source": [
    "data.shape"
   ]
  },
  {
   "cell_type": "code",
   "execution_count": 6,
   "id": "ca2335a2-ec85-4a2b-9524-7c5888f60d93",
   "metadata": {},
   "outputs": [
    {
     "data": {
      "text/html": [
       "<div>\n",
       "<style scoped>\n",
       "    .dataframe tbody tr th:only-of-type {\n",
       "        vertical-align: middle;\n",
       "    }\n",
       "\n",
       "    .dataframe tbody tr th {\n",
       "        vertical-align: top;\n",
       "    }\n",
       "\n",
       "    .dataframe thead th {\n",
       "        text-align: right;\n",
       "    }\n",
       "</style>\n",
       "<table border=\"1\" class=\"dataframe\">\n",
       "  <thead>\n",
       "    <tr style=\"text-align: right;\">\n",
       "      <th></th>\n",
       "      <th>Seats</th>\n",
       "      <th>Price</th>\n",
       "      <th>Age</th>\n",
       "      <th>Mileage</th>\n",
       "      <th>Power</th>\n",
       "      <th>KM_Driven</th>\n",
       "    </tr>\n",
       "  </thead>\n",
       "  <tbody>\n",
       "    <tr>\n",
       "      <th>count</th>\n",
       "      <td>1070.000000</td>\n",
       "      <td>1070.000000</td>\n",
       "      <td>1070.000000</td>\n",
       "      <td>1070.000000</td>\n",
       "      <td>1070.000000</td>\n",
       "      <td>1070.000000</td>\n",
       "    </tr>\n",
       "    <tr>\n",
       "      <th>mean</th>\n",
       "      <td>5.160748</td>\n",
       "      <td>4.524168</td>\n",
       "      <td>6.455140</td>\n",
       "      <td>21.586299</td>\n",
       "      <td>73.327636</td>\n",
       "      <td>52.863551</td>\n",
       "    </tr>\n",
       "    <tr>\n",
       "      <th>std</th>\n",
       "      <td>0.593346</td>\n",
       "      <td>2.226416</td>\n",
       "      <td>3.527434</td>\n",
       "      <td>3.386033</td>\n",
       "      <td>13.772010</td>\n",
       "      <td>29.957033</td>\n",
       "    </tr>\n",
       "    <tr>\n",
       "      <th>min</th>\n",
       "      <td>4.000000</td>\n",
       "      <td>0.450000</td>\n",
       "      <td>1.000000</td>\n",
       "      <td>11.300000</td>\n",
       "      <td>34.200000</td>\n",
       "      <td>0.000000</td>\n",
       "    </tr>\n",
       "    <tr>\n",
       "      <th>25%</th>\n",
       "      <td>5.000000</td>\n",
       "      <td>2.820000</td>\n",
       "      <td>4.000000</td>\n",
       "      <td>19.000000</td>\n",
       "      <td>67.040000</td>\n",
       "      <td>31.000000</td>\n",
       "    </tr>\n",
       "    <tr>\n",
       "      <th>50%</th>\n",
       "      <td>5.000000</td>\n",
       "      <td>4.250000</td>\n",
       "      <td>6.000000</td>\n",
       "      <td>21.400000</td>\n",
       "      <td>74.000000</td>\n",
       "      <td>50.500000</td>\n",
       "    </tr>\n",
       "    <tr>\n",
       "      <th>75%</th>\n",
       "      <td>5.000000</td>\n",
       "      <td>6.000000</td>\n",
       "      <td>8.000000</td>\n",
       "      <td>23.400000</td>\n",
       "      <td>85.800000</td>\n",
       "      <td>69.000000</td>\n",
       "    </tr>\n",
       "    <tr>\n",
       "      <th>max</th>\n",
       "      <td>8.000000</td>\n",
       "      <td>10.190000</td>\n",
       "      <td>22.000000</td>\n",
       "      <td>28.400000</td>\n",
       "      <td>100.000000</td>\n",
       "      <td>168.000000</td>\n",
       "    </tr>\n",
       "  </tbody>\n",
       "</table>\n",
       "</div>"
      ],
      "text/plain": [
       "             Seats        Price          Age      Mileage        Power  \\\n",
       "count  1070.000000  1070.000000  1070.000000  1070.000000  1070.000000   \n",
       "mean      5.160748     4.524168     6.455140    21.586299    73.327636   \n",
       "std       0.593346     2.226416     3.527434     3.386033    13.772010   \n",
       "min       4.000000     0.450000     1.000000    11.300000    34.200000   \n",
       "25%       5.000000     2.820000     4.000000    19.000000    67.040000   \n",
       "50%       5.000000     4.250000     6.000000    21.400000    74.000000   \n",
       "75%       5.000000     6.000000     8.000000    23.400000    85.800000   \n",
       "max       8.000000    10.190000    22.000000    28.400000   100.000000   \n",
       "\n",
       "         KM_Driven  \n",
       "count  1070.000000  \n",
       "mean     52.863551  \n",
       "std      29.957033  \n",
       "min       0.000000  \n",
       "25%      31.000000  \n",
       "50%      50.500000  \n",
       "75%      69.000000  \n",
       "max     168.000000  "
      ]
     },
     "execution_count": 6,
     "metadata": {},
     "output_type": "execute_result"
    }
   ],
   "source": [
    "data.describe()"
   ]
  },
  {
   "cell_type": "code",
   "execution_count": 8,
   "id": "32c2dbc5-7633-4925-b488-8de40d245a3b",
   "metadata": {},
   "outputs": [
    {
     "name": "stdout",
     "output_type": "stream",
     "text": [
      "<class 'pandas.core.frame.DataFrame'>\n",
      "RangeIndex: 1070 entries, 0 to 1069\n",
      "Data columns (total 11 columns):\n",
      " #   Column        Non-Null Count  Dtype  \n",
      "---  ------        --------------  -----  \n",
      " 0   Location      1070 non-null   object \n",
      " 1   Fuel_Type     1070 non-null   object \n",
      " 2   Transmission  1070 non-null   object \n",
      " 3   Owner_Type    1070 non-null   object \n",
      " 4   Seats         1070 non-null   int64  \n",
      " 5   Price         1070 non-null   float64\n",
      " 6   Age           1070 non-null   int64  \n",
      " 7   Model         1070 non-null   object \n",
      " 8   Mileage       1070 non-null   float64\n",
      " 9   Power         1070 non-null   float64\n",
      " 10  KM_Driven     1070 non-null   int64  \n",
      "dtypes: float64(3), int64(3), object(5)\n",
      "memory usage: 92.1+ KB\n"
     ]
    }
   ],
   "source": [
    "data.info()"
   ]
  },
  {
   "cell_type": "code",
   "execution_count": 9,
   "id": "996c5b70-44e8-49fd-945d-82598daad43e",
   "metadata": {},
   "outputs": [
    {
     "data": {
      "text/plain": [
       "array(['ertiga', 'swift', 'alto', 'wagon', 'vitara', 'zen', 'ritz',\n",
       "       'omni', 'eeco', 'ciaz', 'baleno', 'a-star', 'celerio', '800',\n",
       "       's-cross', 'esteem', 'ignis', 'dzire', 'sx4', 'versa'],\n",
       "      dtype=object)"
      ]
     },
     "execution_count": 9,
     "metadata": {},
     "output_type": "execute_result"
    }
   ],
   "source": [
    "data['Model'].unique()"
   ]
  },
  {
   "cell_type": "code",
   "execution_count": 10,
   "id": "f29a35d0-e617-4bc6-8a0c-e217bce0ca2a",
   "metadata": {},
   "outputs": [
    {
     "data": {
      "text/plain": [
       "20"
      ]
     },
     "execution_count": 10,
     "metadata": {},
     "output_type": "execute_result"
    }
   ],
   "source": [
    "data['Model'].nunique()"
   ]
  },
  {
   "cell_type": "code",
   "execution_count": 11,
   "id": "06cdaeb2-f36e-4626-9bf4-70499375f512",
   "metadata": {},
   "outputs": [
    {
     "data": {
      "text/plain": [
       "Model\n",
       "swift      0.304673\n",
       "alto       0.125234\n",
       "wagon      0.116822\n",
       "ertiga     0.065421\n",
       "ciaz       0.061682\n",
       "ritz       0.059813\n",
       "baleno     0.057009\n",
       "celerio    0.052336\n",
       "vitara     0.032710\n",
       "zen        0.025234\n",
       "dzire      0.022430\n",
       "omni       0.018692\n",
       "a-star     0.015888\n",
       "eeco       0.011215\n",
       "800        0.011215\n",
       "sx4        0.008411\n",
       "ignis      0.005607\n",
       "s-cross    0.002804\n",
       "esteem     0.001869\n",
       "versa      0.000935\n",
       "Name: proportion, dtype: float64"
      ]
     },
     "execution_count": 11,
     "metadata": {},
     "output_type": "execute_result"
    }
   ],
   "source": [
    "data['Model'].value_counts(normalize=True)"
   ]
  },
  {
   "cell_type": "code",
   "execution_count": 14,
   "id": "6027445f-2c26-4c82-b9c5-26bd1d905564",
   "metadata": {},
   "outputs": [
    {
     "data": {
      "text/plain": [
       "array(['First', 'Second', 'Third', 'Fourth & Above'], dtype=object)"
      ]
     },
     "execution_count": 14,
     "metadata": {},
     "output_type": "execute_result"
    }
   ],
   "source": [
    "data['Owner_Type'].unique()"
   ]
  },
  {
   "cell_type": "code",
   "execution_count": 17,
   "id": "feba12f7-4b3c-4b33-8181-129483a7fb05",
   "metadata": {},
   "outputs": [
    {
     "data": {
      "text/plain": [
       "Owner_Type\n",
       "First             0.860748\n",
       "Second            0.120561\n",
       "Third             0.017757\n",
       "Fourth & Above    0.000935\n",
       "Name: proportion, dtype: float64"
      ]
     },
     "execution_count": 17,
     "metadata": {},
     "output_type": "execute_result"
    }
   ],
   "source": [
    "data['Owner_Type'].value_counts(normalize=True)"
   ]
  },
  {
   "cell_type": "code",
   "execution_count": 20,
   "id": "ef7f1cb6-49fa-4cee-b6e6-feff4279648a",
   "metadata": {},
   "outputs": [
    {
     "data": {
      "text/plain": [
       "Age\n",
       "4     169\n",
       "5     138\n",
       "6     134\n",
       "3     120\n",
       "8      90\n",
       "7      87\n",
       "2      65\n",
       "9      61\n",
       "10     56\n",
       "11     33\n",
       "12     28\n",
       "13     20\n",
       "14     18\n",
       "1      17\n",
       "16      9\n",
       "17      7\n",
       "15      7\n",
       "18      6\n",
       "22      2\n",
       "20      2\n",
       "21      1\n",
       "Name: count, dtype: int64"
      ]
     },
     "execution_count": 20,
     "metadata": {},
     "output_type": "execute_result"
    }
   ],
   "source": [
    "data['Age'].value_counts()"
   ]
  },
  {
   "cell_type": "code",
   "execution_count": 22,
   "id": "9f6e617f-dd00-4983-859c-281790eaf6e6",
   "metadata": {},
   "outputs": [
    {
     "data": {
      "text/plain": [
       "10.19"
      ]
     },
     "execution_count": 22,
     "metadata": {},
     "output_type": "execute_result"
    }
   ],
   "source": [
    "data['Price'].max()"
   ]
  },
  {
   "cell_type": "code",
   "execution_count": 28,
   "id": "420dfcbd-5cf1-4264-90f5-339eb47b7af2",
   "metadata": {},
   "outputs": [
    {
     "data": {
      "text/html": [
       "<div>\n",
       "<style scoped>\n",
       "    .dataframe tbody tr th:only-of-type {\n",
       "        vertical-align: middle;\n",
       "    }\n",
       "\n",
       "    .dataframe tbody tr th {\n",
       "        vertical-align: top;\n",
       "    }\n",
       "\n",
       "    .dataframe thead th {\n",
       "        text-align: right;\n",
       "    }\n",
       "</style>\n",
       "<table border=\"1\" class=\"dataframe\">\n",
       "  <thead>\n",
       "    <tr style=\"text-align: right;\">\n",
       "      <th></th>\n",
       "      <th>Location</th>\n",
       "      <th>Fuel_Type</th>\n",
       "      <th>Transmission</th>\n",
       "      <th>Owner_Type</th>\n",
       "      <th>Seats</th>\n",
       "      <th>Price</th>\n",
       "      <th>Age</th>\n",
       "      <th>Model</th>\n",
       "      <th>Mileage</th>\n",
       "      <th>Power</th>\n",
       "      <th>KM_Driven</th>\n",
       "    </tr>\n",
       "  </thead>\n",
       "  <tbody>\n",
       "    <tr>\n",
       "      <th>577</th>\n",
       "      <td>Jaipur</td>\n",
       "      <td>Petrol</td>\n",
       "      <td>Manual</td>\n",
       "      <td>Third</td>\n",
       "      <td>5</td>\n",
       "      <td>0.45</td>\n",
       "      <td>22</td>\n",
       "      <td>zen</td>\n",
       "      <td>17.3</td>\n",
       "      <td>60.0</td>\n",
       "      <td>95</td>\n",
       "    </tr>\n",
       "    <tr>\n",
       "      <th>297</th>\n",
       "      <td>Jaipur</td>\n",
       "      <td>Petrol</td>\n",
       "      <td>Manual</td>\n",
       "      <td>Second</td>\n",
       "      <td>4</td>\n",
       "      <td>0.45</td>\n",
       "      <td>16</td>\n",
       "      <td>800</td>\n",
       "      <td>16.1</td>\n",
       "      <td>37.0</td>\n",
       "      <td>12</td>\n",
       "    </tr>\n",
       "    <tr>\n",
       "      <th>594</th>\n",
       "      <td>Pune</td>\n",
       "      <td>Petrol</td>\n",
       "      <td>Manual</td>\n",
       "      <td>First</td>\n",
       "      <td>4</td>\n",
       "      <td>0.50</td>\n",
       "      <td>17</td>\n",
       "      <td>800</td>\n",
       "      <td>16.1</td>\n",
       "      <td>37.0</td>\n",
       "      <td>52</td>\n",
       "    </tr>\n",
       "    <tr>\n",
       "      <th>1012</th>\n",
       "      <td>Jaipur</td>\n",
       "      <td>Petrol</td>\n",
       "      <td>Manual</td>\n",
       "      <td>First</td>\n",
       "      <td>4</td>\n",
       "      <td>0.51</td>\n",
       "      <td>18</td>\n",
       "      <td>800</td>\n",
       "      <td>16.1</td>\n",
       "      <td>37.0</td>\n",
       "      <td>75</td>\n",
       "    </tr>\n",
       "    <tr>\n",
       "      <th>1022</th>\n",
       "      <td>Jaipur</td>\n",
       "      <td>Petrol</td>\n",
       "      <td>Manual</td>\n",
       "      <td>Third</td>\n",
       "      <td>5</td>\n",
       "      <td>0.53</td>\n",
       "      <td>22</td>\n",
       "      <td>zen</td>\n",
       "      <td>17.3</td>\n",
       "      <td>60.0</td>\n",
       "      <td>95</td>\n",
       "    </tr>\n",
       "    <tr>\n",
       "      <th>41</th>\n",
       "      <td>Mumbai</td>\n",
       "      <td>Petrol</td>\n",
       "      <td>Manual</td>\n",
       "      <td>Third</td>\n",
       "      <td>5</td>\n",
       "      <td>0.55</td>\n",
       "      <td>18</td>\n",
       "      <td>zen</td>\n",
       "      <td>17.3</td>\n",
       "      <td>60.0</td>\n",
       "      <td>60</td>\n",
       "    </tr>\n",
       "    <tr>\n",
       "      <th>1053</th>\n",
       "      <td>Pune</td>\n",
       "      <td>Petrol</td>\n",
       "      <td>Manual</td>\n",
       "      <td>First</td>\n",
       "      <td>4</td>\n",
       "      <td>0.55</td>\n",
       "      <td>20</td>\n",
       "      <td>800</td>\n",
       "      <td>16.1</td>\n",
       "      <td>37.0</td>\n",
       "      <td>78</td>\n",
       "    </tr>\n",
       "    <tr>\n",
       "      <th>712</th>\n",
       "      <td>Jaipur</td>\n",
       "      <td>Petrol</td>\n",
       "      <td>Manual</td>\n",
       "      <td>Second</td>\n",
       "      <td>4</td>\n",
       "      <td>0.63</td>\n",
       "      <td>18</td>\n",
       "      <td>800</td>\n",
       "      <td>16.1</td>\n",
       "      <td>37.0</td>\n",
       "      <td>53</td>\n",
       "    </tr>\n",
       "    <tr>\n",
       "      <th>61</th>\n",
       "      <td>Kolkata</td>\n",
       "      <td>Petrol</td>\n",
       "      <td>Manual</td>\n",
       "      <td>First</td>\n",
       "      <td>5</td>\n",
       "      <td>0.65</td>\n",
       "      <td>17</td>\n",
       "      <td>zen</td>\n",
       "      <td>17.3</td>\n",
       "      <td>60.0</td>\n",
       "      <td>65</td>\n",
       "    </tr>\n",
       "  </tbody>\n",
       "</table>\n",
       "</div>"
      ],
      "text/plain": [
       "     Location Fuel_Type Transmission Owner_Type  Seats  Price  Age Model  \\\n",
       "577    Jaipur    Petrol       Manual      Third      5   0.45   22   zen   \n",
       "297    Jaipur    Petrol       Manual     Second      4   0.45   16   800   \n",
       "594      Pune    Petrol       Manual      First      4   0.50   17   800   \n",
       "1012   Jaipur    Petrol       Manual      First      4   0.51   18   800   \n",
       "1022   Jaipur    Petrol       Manual      Third      5   0.53   22   zen   \n",
       "41     Mumbai    Petrol       Manual      Third      5   0.55   18   zen   \n",
       "1053     Pune    Petrol       Manual      First      4   0.55   20   800   \n",
       "712    Jaipur    Petrol       Manual     Second      4   0.63   18   800   \n",
       "61    Kolkata    Petrol       Manual      First      5   0.65   17   zen   \n",
       "\n",
       "      Mileage  Power  KM_Driven  \n",
       "577      17.3   60.0         95  \n",
       "297      16.1   37.0         12  \n",
       "594      16.1   37.0         52  \n",
       "1012     16.1   37.0         75  \n",
       "1022     17.3   60.0         95  \n",
       "41       17.3   60.0         60  \n",
       "1053     16.1   37.0         78  \n",
       "712      16.1   37.0         53  \n",
       "61       17.3   60.0         65  "
      ]
     },
     "execution_count": 28,
     "metadata": {},
     "output_type": "execute_result"
    }
   ],
   "source": [
    "data.sort_values('Price', ascending=True)[0:9]"
   ]
  },
  {
   "cell_type": "code",
   "execution_count": 36,
   "id": "6c588e7d-0d73-448c-abdb-2c18b9f3b50c",
   "metadata": {},
   "outputs": [],
   "source": [
    "Model_df = data.Model.value_counts().reset_index();"
   ]
  },
  {
   "cell_type": "code",
   "execution_count": 37,
   "id": "ed34f01b-2e8e-4b2b-922f-2d96b4236fe0",
   "metadata": {},
   "outputs": [],
   "source": [
    "Model_df.columns = [\"Model\", \"Counts\"]"
   ]
  },
  {
   "cell_type": "code",
   "execution_count": 38,
   "id": "c96bef7d-dc87-4bd3-b59b-cb3ddd8bc6e2",
   "metadata": {},
   "outputs": [
    {
     "data": {
      "text/html": [
       "<div>\n",
       "<style scoped>\n",
       "    .dataframe tbody tr th:only-of-type {\n",
       "        vertical-align: middle;\n",
       "    }\n",
       "\n",
       "    .dataframe tbody tr th {\n",
       "        vertical-align: top;\n",
       "    }\n",
       "\n",
       "    .dataframe thead th {\n",
       "        text-align: right;\n",
       "    }\n",
       "</style>\n",
       "<table border=\"1\" class=\"dataframe\">\n",
       "  <thead>\n",
       "    <tr style=\"text-align: right;\">\n",
       "      <th></th>\n",
       "      <th>Model</th>\n",
       "      <th>Counts</th>\n",
       "    </tr>\n",
       "  </thead>\n",
       "  <tbody>\n",
       "    <tr>\n",
       "      <th>0</th>\n",
       "      <td>swift</td>\n",
       "      <td>326</td>\n",
       "    </tr>\n",
       "    <tr>\n",
       "      <th>1</th>\n",
       "      <td>alto</td>\n",
       "      <td>134</td>\n",
       "    </tr>\n",
       "    <tr>\n",
       "      <th>2</th>\n",
       "      <td>wagon</td>\n",
       "      <td>125</td>\n",
       "    </tr>\n",
       "    <tr>\n",
       "      <th>3</th>\n",
       "      <td>ertiga</td>\n",
       "      <td>70</td>\n",
       "    </tr>\n",
       "    <tr>\n",
       "      <th>4</th>\n",
       "      <td>ciaz</td>\n",
       "      <td>66</td>\n",
       "    </tr>\n",
       "  </tbody>\n",
       "</table>\n",
       "</div>"
      ],
      "text/plain": [
       "    Model  Counts\n",
       "0   swift     326\n",
       "1    alto     134\n",
       "2   wagon     125\n",
       "3  ertiga      70\n",
       "4    ciaz      66"
      ]
     },
     "execution_count": 38,
     "metadata": {},
     "output_type": "execute_result"
    }
   ],
   "source": [
    "Model_df.head()"
   ]
  },
  {
   "cell_type": "code",
   "execution_count": 43,
   "id": "4d6b0982-06ee-4550-98fd-1b37296884da",
   "metadata": {},
   "outputs": [
    {
     "ename": "KeyError",
     "evalue": "'Models'",
     "output_type": "error",
     "traceback": [
      "\u001b[1;31m---------------------------------------------------------------------------\u001b[0m",
      "\u001b[1;31mKeyError\u001b[0m                                  Traceback (most recent call last)",
      "File \u001b[1;32mC:\\Program Files\\Python311\\Lib\\site-packages\\pandas\\core\\indexes\\base.py:3805\u001b[0m, in \u001b[0;36mIndex.get_loc\u001b[1;34m(self, key)\u001b[0m\n\u001b[0;32m   3804\u001b[0m \u001b[38;5;28;01mtry\u001b[39;00m:\n\u001b[1;32m-> 3805\u001b[0m     \u001b[38;5;28;01mreturn\u001b[39;00m \u001b[38;5;28;43mself\u001b[39;49m\u001b[38;5;241;43m.\u001b[39;49m\u001b[43m_engine\u001b[49m\u001b[38;5;241;43m.\u001b[39;49m\u001b[43mget_loc\u001b[49m\u001b[43m(\u001b[49m\u001b[43mcasted_key\u001b[49m\u001b[43m)\u001b[49m\n\u001b[0;32m   3806\u001b[0m \u001b[38;5;28;01mexcept\u001b[39;00m \u001b[38;5;167;01mKeyError\u001b[39;00m \u001b[38;5;28;01mas\u001b[39;00m err:\n",
      "File \u001b[1;32mindex.pyx:167\u001b[0m, in \u001b[0;36mpandas._libs.index.IndexEngine.get_loc\u001b[1;34m()\u001b[0m\n",
      "File \u001b[1;32mindex.pyx:196\u001b[0m, in \u001b[0;36mpandas._libs.index.IndexEngine.get_loc\u001b[1;34m()\u001b[0m\n",
      "File \u001b[1;32mpandas\\\\_libs\\\\hashtable_class_helper.pxi:7081\u001b[0m, in \u001b[0;36mpandas._libs.hashtable.PyObjectHashTable.get_item\u001b[1;34m()\u001b[0m\n",
      "File \u001b[1;32mpandas\\\\_libs\\\\hashtable_class_helper.pxi:7089\u001b[0m, in \u001b[0;36mpandas._libs.hashtable.PyObjectHashTable.get_item\u001b[1;34m()\u001b[0m\n",
      "\u001b[1;31mKeyError\u001b[0m: 'Models'",
      "\nThe above exception was the direct cause of the following exception:\n",
      "\u001b[1;31mKeyError\u001b[0m                                  Traceback (most recent call last)",
      "Cell \u001b[1;32mIn[43], line 4\u001b[0m\n\u001b[0;32m      1\u001b[0m \u001b[38;5;28;01mimport\u001b[39;00m \u001b[38;5;21;01mmatplotlib\u001b[39;00m\u001b[38;5;21;01m.\u001b[39;00m\u001b[38;5;21;01mpyplot\u001b[39;00m \u001b[38;5;28;01mas\u001b[39;00m \u001b[38;5;21;01mplt\u001b[39;00m\n\u001b[0;32m      3\u001b[0m plt\u001b[38;5;241m.\u001b[39mfigure(figsize\u001b[38;5;241m=\u001b[39m(\u001b[38;5;241m10\u001b[39m, \u001b[38;5;241m5\u001b[39m))\n\u001b[1;32m----> 4\u001b[0m plt\u001b[38;5;241m.\u001b[39mbar(\u001b[43mModel_df\u001b[49m\u001b[43m[\u001b[49m\u001b[38;5;124;43m'\u001b[39;49m\u001b[38;5;124;43mModels\u001b[39;49m\u001b[38;5;124;43m'\u001b[39;49m\u001b[43m]\u001b[49m, model_df[\u001b[38;5;124m'\u001b[39m\u001b[38;5;124mCounts\u001b[39m\u001b[38;5;124m'\u001b[39m], color\u001b[38;5;241m=\u001b[39m\u001b[38;5;124m\"\u001b[39m\u001b[38;5;124mr\u001b[39m\u001b[38;5;124m\"\u001b[39m, edgecolor\u001b[38;5;241m=\u001b[39m\u001b[38;5;124m\"\u001b[39m\u001b[38;5;124mblack\u001b[39m\u001b[38;5;124m\"\u001b[39m)\n\u001b[0;32m      8\u001b[0m plt\u001b[38;5;241m.\u001b[39mxlabel(\u001b[38;5;124m\"\u001b[39m\u001b[38;5;124mCar Model\u001b[39m\u001b[38;5;124m\"\u001b[39m)\n\u001b[0;32m     12\u001b[0m plt\u001b[38;5;241m.\u001b[39mylabel(\u001b[38;5;124m\"\u001b[39m\u001b[38;5;124mNumber of Sales\u001b[39m\u001b[38;5;124m\"\u001b[39m)\n",
      "File \u001b[1;32mC:\\Program Files\\Python311\\Lib\\site-packages\\pandas\\core\\frame.py:4102\u001b[0m, in \u001b[0;36mDataFrame.__getitem__\u001b[1;34m(self, key)\u001b[0m\n\u001b[0;32m   4100\u001b[0m \u001b[38;5;28;01mif\u001b[39;00m \u001b[38;5;28mself\u001b[39m\u001b[38;5;241m.\u001b[39mcolumns\u001b[38;5;241m.\u001b[39mnlevels \u001b[38;5;241m>\u001b[39m \u001b[38;5;241m1\u001b[39m:\n\u001b[0;32m   4101\u001b[0m     \u001b[38;5;28;01mreturn\u001b[39;00m \u001b[38;5;28mself\u001b[39m\u001b[38;5;241m.\u001b[39m_getitem_multilevel(key)\n\u001b[1;32m-> 4102\u001b[0m indexer \u001b[38;5;241m=\u001b[39m \u001b[38;5;28;43mself\u001b[39;49m\u001b[38;5;241;43m.\u001b[39;49m\u001b[43mcolumns\u001b[49m\u001b[38;5;241;43m.\u001b[39;49m\u001b[43mget_loc\u001b[49m\u001b[43m(\u001b[49m\u001b[43mkey\u001b[49m\u001b[43m)\u001b[49m\n\u001b[0;32m   4103\u001b[0m \u001b[38;5;28;01mif\u001b[39;00m is_integer(indexer):\n\u001b[0;32m   4104\u001b[0m     indexer \u001b[38;5;241m=\u001b[39m [indexer]\n",
      "File \u001b[1;32mC:\\Program Files\\Python311\\Lib\\site-packages\\pandas\\core\\indexes\\base.py:3812\u001b[0m, in \u001b[0;36mIndex.get_loc\u001b[1;34m(self, key)\u001b[0m\n\u001b[0;32m   3807\u001b[0m     \u001b[38;5;28;01mif\u001b[39;00m \u001b[38;5;28misinstance\u001b[39m(casted_key, \u001b[38;5;28mslice\u001b[39m) \u001b[38;5;129;01mor\u001b[39;00m (\n\u001b[0;32m   3808\u001b[0m         \u001b[38;5;28misinstance\u001b[39m(casted_key, abc\u001b[38;5;241m.\u001b[39mIterable)\n\u001b[0;32m   3809\u001b[0m         \u001b[38;5;129;01mand\u001b[39;00m \u001b[38;5;28many\u001b[39m(\u001b[38;5;28misinstance\u001b[39m(x, \u001b[38;5;28mslice\u001b[39m) \u001b[38;5;28;01mfor\u001b[39;00m x \u001b[38;5;129;01min\u001b[39;00m casted_key)\n\u001b[0;32m   3810\u001b[0m     ):\n\u001b[0;32m   3811\u001b[0m         \u001b[38;5;28;01mraise\u001b[39;00m InvalidIndexError(key)\n\u001b[1;32m-> 3812\u001b[0m     \u001b[38;5;28;01mraise\u001b[39;00m \u001b[38;5;167;01mKeyError\u001b[39;00m(key) \u001b[38;5;28;01mfrom\u001b[39;00m \u001b[38;5;21;01merr\u001b[39;00m\n\u001b[0;32m   3813\u001b[0m \u001b[38;5;28;01mexcept\u001b[39;00m \u001b[38;5;167;01mTypeError\u001b[39;00m:\n\u001b[0;32m   3814\u001b[0m     \u001b[38;5;66;03m# If we have a listlike key, _check_indexing_error will raise\u001b[39;00m\n\u001b[0;32m   3815\u001b[0m     \u001b[38;5;66;03m#  InvalidIndexError. Otherwise we fall through and re-raise\u001b[39;00m\n\u001b[0;32m   3816\u001b[0m     \u001b[38;5;66;03m#  the TypeError.\u001b[39;00m\n\u001b[0;32m   3817\u001b[0m     \u001b[38;5;28mself\u001b[39m\u001b[38;5;241m.\u001b[39m_check_indexing_error(key)\n",
      "\u001b[1;31mKeyError\u001b[0m: 'Models'"
     ]
    },
    {
     "data": {
      "text/plain": [
       "<Figure size 1000x500 with 0 Axes>"
      ]
     },
     "metadata": {},
     "output_type": "display_data"
    }
   ],
   "source": [
    "import matplotlib.pyplot as plt\n",
    "\n",
    "plt.figure(figsize=(10, 5))\n",
    "plt.bar(Model_df['Models'], model_df['Counts'], color=\"r\", edgecolor=\"black\")\n",
    "\n",
    "\n",
    "\n",
    "plt.xlabel(\"Car Model\")\n",
    "\n",
    "\n",
    "\n",
    "plt.ylabel(\"Number of Sales\")\n",
    "\n",
    "\n",
    "plt.title(\"Top 10 Selling Car Models\")\n",
    "\n",
    "\n",
    "\n",
    "plt.show()\n",
    "\n"
   ]
  },
  {
   "cell_type": "code",
   "execution_count": 42,
   "id": "230fa250-0a4b-4475-ad4c-8c1a38683fe4",
   "metadata": {},
   "outputs": [
    {
     "ename": "NameError",
     "evalue": "name 'model_df' is not defined",
     "output_type": "error",
     "traceback": [
      "\u001b[1;31m---------------------------------------------------------------------------\u001b[0m",
      "\u001b[1;31mNameError\u001b[0m                                 Traceback (most recent call last)",
      "Cell \u001b[1;32mIn[42], line 1\u001b[0m\n\u001b[1;32m----> 1\u001b[0m top10_models\u001b[38;5;241m=\u001b[39m\u001b[38;5;28mlist\u001b[39m(\u001b[43mmodel_df\u001b[49m\u001b[38;5;241m.\u001b[39mModels)[\u001b[38;5;241m0\u001b[39m:\u001b[38;5;241m10\u001b[39m]\n\u001b[0;32m      7\u001b[0m top10_models\n\u001b[0;32m     11\u001b[0m models_to_remove \u001b[38;5;241m=\u001b[39m \u001b[38;5;28mlist\u001b[39m(model_df[model_df\u001b[38;5;241m.\u001b[39mCounts\u001b[38;5;241m<\u001b[39m\u001b[38;5;241m10\u001b[39m][\u001b[38;5;124m'\u001b[39m\u001b[38;5;124mModels\u001b[39m\u001b[38;5;124m'\u001b[39m])\n",
      "\u001b[1;31mNameError\u001b[0m: name 'model_df' is not defined"
     ]
    }
   ],
   "source": [
    "top10_models=list(model_df.Models)[0:10]\n",
    "\n",
    "\n",
    "\n",
    "\n",
    "\n",
    "top10_models\n",
    "\n",
    "\n",
    "\n",
    "models_to_remove = list(model_df[model_df.Counts<10]['Models'])\n",
    "\n"
   ]
  },
  {
   "cell_type": "markdown",
   "id": "7514bbf8-a1fd-458a-9e89-f49f9a0dbcea",
   "metadata": {},
   "source": [
    "### Find out the variations of sales price for only SWIFT model for different ages.(e.g. one year old, two year old and so on)"
   ]
  },
  {
   "cell_type": "code",
   "execution_count": null,
   "id": "f194e811-d291-4196-bb31-16c3536fd478",
   "metadata": {},
   "outputs": [],
   "source": []
  }
 ],
 "metadata": {
  "kernelspec": {
   "display_name": "Python 3 (ipykernel)",
   "language": "python",
   "name": "python3"
  },
  "language_info": {
   "codemirror_mode": {
    "name": "ipython",
    "version": 3
   },
   "file_extension": ".py",
   "mimetype": "text/x-python",
   "name": "python",
   "nbconvert_exporter": "python",
   "pygments_lexer": "ipython3",
   "version": "3.11.5"
  }
 },
 "nbformat": 4,
 "nbformat_minor": 5
}
